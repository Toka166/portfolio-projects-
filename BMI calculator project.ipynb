{
 "cells": [
  {
   "cell_type": "markdown",
   "id": "bb3d38be",
   "metadata": {},
   "source": [
    "# building BMI calculator"
   ]
  },
  {
   "cell_type": "code",
   "execution_count": 24,
   "id": "1a7698cd",
   "metadata": {},
   "outputs": [
    {
     "name": "stdout",
     "output_type": "stream",
     "text": [
      "Hello , please enter your name: toka\n",
      "please enter your weight in kilograms: 74\n",
      "please enter your height in meters: 1.57\n",
      "30.021501886486266\n",
      "toka , you are obese.\n"
     ]
    }
   ],
   "source": [
    "name = input(\"Hello , please enter your name: \")\n",
    "weight = int(input(\"please enter your weight in kilograms: \"))\n",
    "height = float(input(\"please enter your height in meters: \"))\n",
    "BMI = weight / (height ** 2)\n",
    "print(BMI)\n",
    "if BMI<18.5:\n",
    "    print(name ,\", you are underweight.\")\n",
    "elif 18.5==BMI<25:\n",
    "    print(name ,\", you are normal.\")\n",
    "elif BMI<30:\n",
    "    print(name ,\", you are overweight.\")\n",
    "elif BMI<35:\n",
    "    print(name ,\", you are obese.\")\n",
    "elif BMI<40:\n",
    "    print(name ,\", you are severly obese.\")\n",
    "else:\n",
    "    print(name ,\", you are morbidly obese.\")\n",
    "    \n",
    "    "
   ]
  },
  {
   "cell_type": "code",
   "execution_count": null,
   "id": "6dc027db",
   "metadata": {},
   "outputs": [],
   "source": []
  }
 ],
 "metadata": {
  "kernelspec": {
   "display_name": "Python 3 (ipykernel)",
   "language": "python",
   "name": "python3"
  },
  "language_info": {
   "codemirror_mode": {
    "name": "ipython",
    "version": 3
   },
   "file_extension": ".py",
   "mimetype": "text/x-python",
   "name": "python",
   "nbconvert_exporter": "python",
   "pygments_lexer": "ipython3",
   "version": "3.9.12"
  }
 },
 "nbformat": 4,
 "nbformat_minor": 5
}
